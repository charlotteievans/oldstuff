{
 "cells": [
  {
   "cell_type": "code",
   "execution_count": 27,
   "metadata": {
    "collapsed": true
   },
   "outputs": [],
   "source": [
    "from heating import conversions as conv\n",
    "from heating import fitfunctions as ff\n",
    "from heating import goodnessoffit as gf\n",
    "from heating import pathutil as putil\n",
    "from heating import polplots as pp\n",
    "from heating import resistancevstemp as rt\n",
    "import numpy as np\n",
    "import matplotlib.pyplot as plt\n",
    "import os\n",
    "from os import path"
   ]
  },
  {
   "cell_type": "code",
   "execution_count": 28,
   "metadata": {
    "collapsed": true
   },
   "outputs": [],
   "source": [
    "fpau1='C:\\\\DOCUMENTS\\\\Projects\\\\Gratings\\\\Data\\\\2016\\\\April 20\\\\Iphoto redo\\\\1_12_15.txt'\n",
    "fp1='C:\\\\DOCUMENTS\\\\Projects\\\\Gratings\\\\Data\\\\2016\\\\April 20\\\\Iphoto redo\\\\1_12_9.txt'\n",
    "title1='1st grating'\n",
    "fpau2='C:\\\\DOCUMENTS\\\\Projects\\\\Gratings\\\\Data\\\\2016\\\\April 20\\\\Iphoto redo\\\\2_11_14.txt'\n",
    "fp2='C:\\\\DOCUMENTS\\\\Projects\\\\Gratings\\\\Data\\\\2016\\\\April 20\\\\Iphoto redo\\\\2_11_7.txt'\n",
    "title2='2nd Grating'\n",
    "fpau3='C:\\\\DOCUMENTS\\\\Projects\\\\Gratings\\\\Data\\\\2016\\\\April 20\\\\Iphoto redo\\\\2_6_15.txt'\n",
    "fp3='C:\\\\DOCUMENTS\\\\Projects\\\\Gratings\\\\Data\\\\2016\\\\April 20\\\\Iphoto redo\\\\2_6_9.txt'\n",
    "title3='3rd Grating'\n",
    "rtfilepath='C:\\\\DOCUMENTS\\\\Projects\\\\Gratings\\\\Data\\\\2016\\\\April 20\\\\rvst.txt'\n",
    "substratetemp=40.5\n",
    "bias=0.03\n",
    "figpath='C:\\\\DOCUMENTS\\\\Projects\\\\Gratings\\\\Figures\\\\2016\\\\April 20'\n",
    "figbasename1='Gratings with Au Subtracted'"
   ]
  },
  {
   "cell_type": "code",
   "execution_count": 29,
   "metadata": {
    "collapsed": true
   },
   "outputs": [],
   "source": [
    "t,r=rt.tempreader(rtfilepath)\n",
    "drdt=rt.rtlinearfit(t,r)[0]\n",
    "resistance=rt.findresistance(substratetemp, t, r)[0]"
   ]
  },
  {
   "cell_type": "code",
   "execution_count": 30,
   "metadata": {
    "collapsed": true
   },
   "outputs": [],
   "source": [
    "ax1 = plt.subplot2grid((1,3), (0,0), projection='polar')\n",
    "ax2 = plt.subplot2grid((1,3), (0,1), projection='polar')\n",
    "ax3 = plt.subplot2grid((1,3), (0,2), projection='polar')"
   ]
  },
  {
   "cell_type": "code",
   "execution_count": 31,
   "metadata": {
    "collapsed": false
   },
   "outputs": [
    {
     "data": {
      "text/plain": [
       "<matplotlib.text.Text at 0x7782128>"
      ]
     },
     "execution_count": 31,
     "metadata": {},
     "output_type": "execute_result"
    }
   ],
   "source": [
    "power,x,pol=pp.polplotreader(fpau1)\n",
    "dt=conv.xtodt(x,drdt,resistance,bias)\n",
    "extra=np.average(dt)\n",
    "power,x,pol=pp.polplotreader(fp1)\n",
    "pol_rad=conv.degtorad(pol)\n",
    "intensity=conv.powertointensity(power)\n",
    "dt=conv.xtodt(x,drdt,resistance,bias)-extra\n",
    "a,b,c,_,_,_,_=pp.polfit(pol_rad,dt)\n",
    "xval=np.linspace(0,2*np.pi,100)\n",
    "ax1.set_theta_zero_location(\"N\")\n",
    "ax1.plot(pol_rad, dt, linewidth=2) \n",
    "ax1.plot(xval,ff.cossquared(xval,a,b,c),'r',linewidth=2)\n",
    "ax1.grid(True)    \n",
    "ax1.tick_params(axis='both', which='major', labelsize=10)\n",
    "ax1.set_title(title1,horizontalalignment='center')"
   ]
  },
  {
   "cell_type": "code",
   "execution_count": 32,
   "metadata": {
    "collapsed": false
   },
   "outputs": [
    {
     "data": {
      "text/plain": [
       "<matplotlib.text.Text at 0x77a4898>"
      ]
     },
     "execution_count": 32,
     "metadata": {},
     "output_type": "execute_result"
    }
   ],
   "source": [
    "power,x,pol=pp.polplotreader(fpau2)\n",
    "dt=conv.xtodt(x,drdt,resistance,bias)\n",
    "extra=np.average(dt)\n",
    "power,x,pol=pp.polplotreader(fp2)\n",
    "pol_rad=conv.degtorad(pol)\n",
    "intensity=conv.powertointensity(power)\n",
    "dt=conv.xtodt(x,drdt,resistance,bias)-extra\n",
    "a,b,c,_,_,_,_=pp.polfit(pol_rad,dt)\n",
    "xval=np.linspace(0,2*np.pi,100)\n",
    "ax2.set_theta_zero_location(\"N\")\n",
    "ax2.plot(pol_rad, dt, linewidth=2) \n",
    "ax2.plot(xval,ff.cossquared(xval,a,b,c),'r',linewidth=2)\n",
    "ax2.grid(True)    \n",
    "ax2.tick_params(axis='both', which='major', labelsize=10)\n",
    "ax2.set_title(title2,horizontalalignment='center')"
   ]
  },
  {
   "cell_type": "code",
   "execution_count": 33,
   "metadata": {
    "collapsed": false
   },
   "outputs": [
    {
     "data": {
      "text/plain": [
       "<matplotlib.text.Text at 0x79435f8>"
      ]
     },
     "execution_count": 33,
     "metadata": {},
     "output_type": "execute_result"
    }
   ],
   "source": [
    "power,x,pol=pp.polplotreader(fpau3)\n",
    "dt=conv.xtodt(x,drdt,resistance,bias)\n",
    "extra=np.average(dt)\n",
    "power,x,pol=pp.polplotreader(fp3)\n",
    "pol_rad=conv.degtorad(pol)\n",
    "intensity=conv.powertointensity(power)\n",
    "dt=conv.xtodt(x,drdt,resistance,bias)-extra\n",
    "a,b,c,_,_,_,_=pp.polfit(pol_rad,dt)\n",
    "xval=np.linspace(0,2*np.pi,100)\n",
    "ax3.set_theta_zero_location(\"N\")\n",
    "ax3.plot(pol_rad, dt, linewidth=2) \n",
    "ax3.plot(xval,ff.cossquared(xval,a,b,c),'r',linewidth=2)\n",
    "ax3.grid(True)    \n",
    "ax3.tick_params(axis='both', which='major', labelsize=10)\n",
    "ax3.set_title(title3,horizontalalignment='center')"
   ]
  },
  {
   "cell_type": "code",
   "execution_count": 34,
   "metadata": {
    "collapsed": true
   },
   "outputs": [],
   "source": [
    "if not figbasename1.endswith('.png'):\n",
    "    figbasename1=figbasename1+'.png'\n",
    "figfilepath = path.join(figpath,figbasename1)"
   ]
  },
  {
   "cell_type": "code",
   "execution_count": 35,
   "metadata": {
    "collapsed": true
   },
   "outputs": [],
   "source": [
    "plt.tight_layout()\n",
    "plt.savefig(figfilepath,format='png')"
   ]
  },
  {
   "cell_type": "code",
   "execution_count": 36,
   "metadata": {
    "collapsed": false
   },
   "outputs": [
    {
     "data": {
      "text/plain": [
       "102.87486488908806"
      ]
     },
     "execution_count": 36,
     "metadata": {},
     "output_type": "execute_result"
    }
   ],
   "source": [
    "resistance"
   ]
  },
  {
   "cell_type": "code",
   "execution_count": 37,
   "metadata": {
    "collapsed": false
   },
   "outputs": [
    {
     "data": {
      "text/plain": [
       "0.10430461603501459"
      ]
     },
     "execution_count": 37,
     "metadata": {},
     "output_type": "execute_result"
    }
   ],
   "source": [
    "drdt"
   ]
  },
  {
   "cell_type": "code",
   "execution_count": null,
   "metadata": {
    "collapsed": true
   },
   "outputs": [],
   "source": []
  }
 ],
 "metadata": {
  "kernelspec": {
   "display_name": "Python 3",
   "language": "python",
   "name": "python3"
  },
  "language_info": {
   "codemirror_mode": {
    "name": "ipython",
    "version": 3
   },
   "file_extension": ".py",
   "mimetype": "text/x-python",
   "name": "python",
   "nbconvert_exporter": "python",
   "pygments_lexer": "ipython3",
   "version": "3.5.1"
  }
 },
 "nbformat": 4,
 "nbformat_minor": 0
}
