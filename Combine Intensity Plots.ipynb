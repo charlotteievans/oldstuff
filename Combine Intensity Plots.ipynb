{
 "cells": [
  {
   "cell_type": "code",
   "execution_count": 1,
   "metadata": {
    "collapsed": true
   },
   "outputs": [],
   "source": [
    "from heating import conversions as conv\n",
    "from heating import fitfunctions as ff\n",
    "from heating import goodnessoffit as gf\n",
    "from heating import pathutil as putil\n",
    "from heating import polplots as pp\n",
    "from heating import resistancevstemp as rt\n",
    "import numpy as np\n",
    "import matplotlib.pyplot as plt\n",
    "import os\n",
    "from os import path"
   ]
  },
  {
   "cell_type": "code",
   "execution_count": 2,
   "metadata": {
    "collapsed": true
   },
   "outputs": [],
   "source": [
    "rtfilepath='C:\\\\DOCUMENTS\\\\Projects\\\\Gratings\\\\Data\\\\2016\\\\April 20\\\\rvst.txt'\n",
    "polfilepath1='C:\\\\DOCUMENTS\\\\Projects\\\\Gratings\\\\Data\\\\2016\\\\April 20\\\\Iphoto redo\\\\1_12_10.txt'\n",
    "polfilepath2='C:\\\\DOCUMENTS\\\\Projects\\\\Gratings\\\\Data\\\\2016\\April 20\\\\Iphoto redo\\\\1_12_10.txt'\n",
    "polfilepath3='C:\\\\DOCUMENTS\\\\Projects\\\\Gratings\\\\Data\\\\2016\\April 20\\\\Iphoto redo\\\\1_12_11.txt'\n",
    "polfilepath4='C:\\\\DOCUMENTS\\\\Projects\\\\Gratings\\\\Data\\\\2016\\April 20\\\\Iphoto redo\\\\1_12_11.txt'\n",
    "label1='0 pol'\n",
    "label2='90 pol'\n",
    "substratetemp=40.5\n",
    "bias=0.03\n",
    "figpath='C:\\\\DOCUMENTS\\\\Projects\\\\Gratings\\\\Figures\\\\2016\\\\April 20'\n",
    "figbasename1='1-12 on 1st Grating'"
   ]
  },
  {
   "cell_type": "code",
   "execution_count": 3,
   "metadata": {
    "collapsed": false
   },
   "outputs": [],
   "source": [
    "x,y,z=pp.polplotreader(polfilepath1)\n",
    "a,b,c=pp.polplotreader(polfilepath2)"
   ]
  },
  {
   "cell_type": "code",
   "execution_count": 4,
   "metadata": {
    "collapsed": true
   },
   "outputs": [],
   "source": [
    "power=np.concatenate((a,x), axis=0)\n",
    "xx=np.concatenate((b,y),axis=0)\n",
    "pol=np.concatenate((c,z),axis=0)"
   ]
  },
  {
   "cell_type": "code",
   "execution_count": 5,
   "metadata": {
    "collapsed": false
   },
   "outputs": [],
   "source": [
    "t,r=rt.tempreader(rtfilepath)\n",
    "drdt=rt.rtlinearfit(t,r)[0]\n",
    "resistance=rt.findresistance(substratetemp, t, r)[0]"
   ]
  },
  {
   "cell_type": "code",
   "execution_count": 6,
   "metadata": {
    "collapsed": false
   },
   "outputs": [],
   "source": [
    "pol_rad=conv.degtorad(pol)\n",
    "intensity=conv.powertointensity(power)\n",
    "dt=conv.xtodt(xx,drdt,resistance,bias)"
   ]
  },
  {
   "cell_type": "code",
   "execution_count": 7,
   "metadata": {
    "collapsed": false
   },
   "outputs": [
    {
     "data": {
      "text/plain": [
       "2"
      ]
     },
     "execution_count": 7,
     "metadata": {},
     "output_type": "execute_result"
    }
   ],
   "source": [
    "1+1"
   ]
  },
  {
   "cell_type": "code",
   "execution_count": 8,
   "metadata": {
    "collapsed": false
   },
   "outputs": [],
   "source": [
    "x,y,z=pp.polplotreader(polfilepath3)\n",
    "a,b,c=pp.polplotreader(polfilepath4)"
   ]
  },
  {
   "cell_type": "code",
   "execution_count": 9,
   "metadata": {
    "collapsed": true
   },
   "outputs": [],
   "source": [
    "power2=np.concatenate((a,x), axis=0)\n",
    "xx2=np.concatenate((b,y),axis=0)\n",
    "pol2=np.concatenate((c,z),axis=0)"
   ]
  },
  {
   "cell_type": "code",
   "execution_count": 10,
   "metadata": {
    "collapsed": true
   },
   "outputs": [],
   "source": [
    "t2,r2=rt.tempreader(rtfilepath)\n",
    "drdt2=rt.rtlinearfit(t2,r2)[0]\n",
    "resistance2=rt.findresistance(substratetemp, t2, r2)[0]"
   ]
  },
  {
   "cell_type": "code",
   "execution_count": 11,
   "metadata": {
    "collapsed": true
   },
   "outputs": [],
   "source": [
    "pol_rad2=conv.degtorad(pol2)\n",
    "intensity2=conv.powertointensity(power2)\n",
    "dt2=conv.xtodt(xx2,drdt2,resistance2,bias)"
   ]
  },
  {
   "cell_type": "code",
   "execution_count": 12,
   "metadata": {
    "collapsed": false
   },
   "outputs": [
    {
     "data": {
      "text/plain": [
       "<matplotlib.legend.Legend at 0x793f860>"
      ]
     },
     "execution_count": 12,
     "metadata": {},
     "output_type": "execute_result"
    }
   ],
   "source": [
    "fig = plt.figure()\n",
    "ax = fig.add_subplot(111)\n",
    "\n",
    "ax.scatter(intensity, dt, s=10, c='b', marker=\"s\", label=label1)\n",
    "ax.scatter(intensity2,dt2, s=10, c='r', marker=\"o\", label=label2)\n",
    "ax.set_xlabel(\"Intensity (kW/cm$^2$)\")\n",
    "ax.set_ylabel(\"$\\Delta$T (K)\")\n",
    "ax.set_ylim(ymin=0)\n",
    "ax.set_xlim(xmin=0)\n",
    "plt.legend(loc='upper left')\n"
   ]
  },
  {
   "cell_type": "code",
   "execution_count": 13,
   "metadata": {
    "collapsed": false,
    "scrolled": true
   },
   "outputs": [],
   "source": [
    "if not figbasename1.endswith('.png'):\n",
    "    figbasename1=figbasename1+'.png'\n",
    "figfilepath = path.join(figpath,figbasename1)"
   ]
  },
  {
   "cell_type": "code",
   "execution_count": 14,
   "metadata": {
    "collapsed": false,
    "scrolled": false
   },
   "outputs": [],
   "source": [
    "plt.savefig(figfilepath,format='png')"
   ]
  },
  {
   "cell_type": "code",
   "execution_count": null,
   "metadata": {
    "collapsed": false
   },
   "outputs": [],
   "source": []
  },
  {
   "cell_type": "code",
   "execution_count": null,
   "metadata": {
    "collapsed": false
   },
   "outputs": [],
   "source": []
  },
  {
   "cell_type": "code",
   "execution_count": null,
   "metadata": {
    "collapsed": false
   },
   "outputs": [],
   "source": []
  },
  {
   "cell_type": "code",
   "execution_count": null,
   "metadata": {
    "collapsed": false
   },
   "outputs": [],
   "source": []
  },
  {
   "cell_type": "code",
   "execution_count": null,
   "metadata": {
    "collapsed": true
   },
   "outputs": [],
   "source": []
  },
  {
   "cell_type": "markdown",
   "metadata": {
    "collapsed": true
   },
   "source": []
  }
 ],
 "metadata": {
  "kernelspec": {
   "display_name": "Python 3",
   "language": "python",
   "name": "python3"
  },
  "language_info": {
   "codemirror_mode": {
    "name": "ipython",
    "version": 3
   },
   "file_extension": ".py",
   "mimetype": "text/x-python",
   "name": "python",
   "nbconvert_exporter": "python",
   "pygments_lexer": "ipython3",
   "version": "3.5.1"
  }
 },
 "nbformat": 4,
 "nbformat_minor": 0
}
