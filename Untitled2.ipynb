{
 "cells": [
  {
   "cell_type": "code",
   "execution_count": 18,
   "metadata": {
    "collapsed": false
   },
   "outputs": [],
   "source": [
    "from heating import conversions as conv\n",
    "from heating import fitfunctions as ff\n",
    "from heating import goodnessoffit as gf\n",
    "from heating import pathutil as putil\n",
    "from heating import polplots as pp\n",
    "from heating import resistancevstemp as rt\n",
    "import numpy as np\n",
    "import matplotlib.pyplot as plt\n",
    "import os\n",
    "from os import path\n",
    "from heating import raman_scratch_2 as rs\n",
    "from heating.Gphotomap_reader import gphoto_reader\n",
    "import math"
   ]
  },
  {
   "cell_type": "code",
   "execution_count": 31,
   "metadata": {
    "collapsed": false
   },
   "outputs": [
    {
     "name": "stdout",
     "output_type": "stream",
     "text": [
      "C:\\DOCUMENTS\\Projects\\Gratings\\Figures\\2016\\Aug 2\\morefigs\\1-11.png\n"
     ]
    }
   ],
   "source": [
    "rtfilepath='C:\\\\DOCUMENTS\\\\Projects\\\\Gratings\\\\Data\\\\2016\\\\Aug 2\\\\rvst.txt'\n",
    "substratetemp=40.5\n",
    "figpath='C:\\\\DOCUMENTS\\\\Projects\\\\Gratings\\\\Figures\\\\2016\\\\Aug 2\\\\morefigs'\n",
    "figtitle='1-11'\n",
    "datafilepatha='C:\\\\DOCUMENTS\\\\Projects\\\\Gratings\\\\Data\\\\2016\\\\Aug 2\\\\Gphoto\\\\1_3_10.txt'\n",
    "titlea='Pre-Break Pol: 0'\n",
    "datafilepathb='C:\\\\DOCUMENTS\\\\Projects\\\\Gratings\\\\Data\\\\2016\\\\Aug 2\\\\Gphoto\\\\1_3_9.txt'\n",
    "titleb='Pre-Break Pol: 90'\n",
    "datafilepathc='C:\\\\DOCUMENTS\\\\Projects\\\\Gratings\\\\Data\\\\2016\\\\Aug 2\\\\Gphoto\\\\1_3_7.txt'\n",
    "titlec='5k ohm Post-Break Pol: 0'\n",
    "datafilepathd='C:\\\\DOCUMENTS\\\\Projects\\\\Gratings\\\\Data\\\\2016\\\\Aug 2\\\\Gphoto\\\\1_3_8.txt'\n",
    "titled='asdf'\n",
    "figbasename = path.splitext(path.basename(figtitle))[0]+'.png'\n",
    "figfilepath = path.join(figpath,figbasename)\n",
    "print(figfilepath)"
   ]
  },
  {
   "cell_type": "code",
   "execution_count": 32,
   "metadata": {
    "collapsed": false
   },
   "outputs": [],
   "source": [
    "ax1=plt.subplot(111)"
   ]
  },
  {
   "cell_type": "code",
   "execution_count": 33,
   "metadata": {
    "collapsed": false
   },
   "outputs": [],
   "source": [
    "header, arrays = gphoto_reader(datafilepathd)\n",
    "drdt, resistance = rt.get_drdt_and_resistance(rtfilepath, substratetemp)\n",
    "dt_array = conv.xtodt(arrays[0], drdt, resistance, header[\"Applied Voltage\"])\n",
    "largest=np.amax(dt_array)\n",
    "#smallest=np.amin(dt_array)\n",
    "im = ax1.imshow(dt_array.T, cmap='coolwarm',interpolation='none',vmin=0, vmax=1)\n",
    "ax1.set_title(titlea)\n",
    "clb = plt.colorbar(im, orientation='vertical')\n",
    "clb.set_label('dT (K)', rotation=270, labelpad=20)\n",
    "print(largest)"
   ]
  },
  {
   "cell_type": "code",
   "execution_count": 176,
   "metadata": {
    "collapsed": false
   },
   "outputs": [
    {
     "data": {
      "text/plain": [
       "<matplotlib.text.Text at 0x183aae48>"
      ]
     },
     "execution_count": 176,
     "metadata": {},
     "output_type": "execute_result"
    }
   ],
   "source": [
    "header, arrays = gphoto_reader(datafilepathb)\n",
    "dt_array = conv.xtodt(arrays[0], drdt, resistance, header[\"Applied Voltage\"])\n",
    "im = ax2.imshow(dt_array.T, cmap='coolwarm',interpolation='none',vmin=smallest, vmax=largest)\n",
    "ax2.set_title(titleb)"
   ]
  },
  {
   "cell_type": "code",
   "execution_count": 88,
   "metadata": {
    "collapsed": false
   },
   "outputs": [
    {
     "data": {
      "text/plain": [
       "<matplotlib.text.Text at 0x8bcc0b8>"
      ]
     },
     "execution_count": 88,
     "metadata": {},
     "output_type": "execute_result"
    }
   ],
   "source": [
    "header, arrays = gphoto_reader(datafilepathc)\n",
    "dt_array = conv.xtodt(arrays[0], drdt, resistance, header[\"Applied Voltage\"])\n",
    "im = ax3.imshow(dt_array.T, cmap='coolwarm',interpolation='none',vmin=smallest, vmax=largest)\n",
    "ax3.set_title(titlec)"
   ]
  },
  {
   "cell_type": "code",
   "execution_count": 89,
   "metadata": {
    "collapsed": false
   },
   "outputs": [
    {
     "data": {
      "text/plain": [
       "<matplotlib.text.Text at 0x9e61e80>"
      ]
     },
     "execution_count": 89,
     "metadata": {},
     "output_type": "execute_result"
    }
   ],
   "source": [
    "header, arrays = gphoto_reader(datafilepathd)\n",
    "dt_array = conv.xtodt(arrays[0], drdt, resistance, header[\"Applied Voltage\"])\n",
    "im = ax4.imshow(dt_array.T, cmap='coolwarm',interpolation='none',vmin=smallest, vmax=largest)\n",
    "ax4.set_title(titled)"
   ]
  },
  {
   "cell_type": "code",
   "execution_count": 34,
   "metadata": {
    "collapsed": false
   },
   "outputs": [],
   "source": [
    "#plt.suptitle(figtitle)\n",
    "#plt.subplots_adjust(top=1)\n",
    "#plt.savefig(figfilepath + '.png',format='png')\n",
    "plt.show()"
   ]
  },
  {
   "cell_type": "code",
   "execution_count": null,
   "metadata": {
    "collapsed": true
   },
   "outputs": [],
   "source": []
  }
 ],
 "metadata": {
  "kernelspec": {
   "display_name": "Python 3",
   "language": "python",
   "name": "python3"
  },
  "language_info": {
   "codemirror_mode": {
    "name": "ipython",
    "version": 3
   },
   "file_extension": ".py",
   "mimetype": "text/x-python",
   "name": "python",
   "nbconvert_exporter": "python",
   "pygments_lexer": "ipython3",
   "version": "3.5.1"
  }
 },
 "nbformat": 4,
 "nbformat_minor": 0
}
