{
 "cells": [
  {
   "cell_type": "code",
   "execution_count": 1,
   "metadata": {
    "collapsed": true
   },
   "outputs": [],
   "source": [
    "from heating import conversions as conv\n",
    "from heating import fitfunctions as ff\n",
    "from heating import goodnessoffit as gf\n",
    "from heating import pathutil as putil\n",
    "from heating import polplots as pp\n",
    "from heating import resistancevstemp as rt\n",
    "import numpy as np\n",
    "import matplotlib.pyplot as plt\n",
    "import os\n",
    "from os import path"
   ]
  },
  {
   "cell_type": "code",
   "execution_count": 2,
   "metadata": {
    "collapsed": false
   },
   "outputs": [],
   "source": [
    "fp1='C:\\\\DOCUMENTS\\\\Projects\\\\Gratings\\\\Data\\\\2016\\\\May 4\\\\iphoto\\\\2_4_12.txt'\n",
    "title1='On Junction'\n",
    "fp2='C:\\\\DOCUMENTS\\\\Projects\\\\Gratings\\\\Data\\\\2016\\\\April 20\\\\Iphoto redo\\\\2_6_9.txt'\n",
    "title2='3rd Grating'\n",
    "fp3='C:\\\\DOCUMENTS\\\\Projects\\\\Gratings\\\\Data\\\\2016\\\\April 20\\\\Iphoto redo\\\\2_6_15.txt'\n",
    "title3='Gold'\n",
    "fp4='C:\\\\DOCUMENTS\\\\Projects\\\\Gratings\\\\Data\\\\2016\\May 4\\\\iphoto\\\\2_7_18.txt'\n",
    "title4='On Gold'\n",
    "fp5='C:\\\\DOCUMENTS\\\\Projects\\\\Gratings\\\\Data\\\\2016\\May 4\\\\iphoto\\\\2_7_21.txt'\n",
    "title5='On Silicon'\n",
    "figpath='C:\\\\DOCUMENTS\\\\Projects\\\\Gratings\\\\Figures\\\\2016\\\\April 20'\n",
    "figbasename1='2-6 Pol Plots'"
   ]
  },
  {
   "cell_type": "code",
   "execution_count": 3,
   "metadata": {
    "collapsed": true
   },
   "outputs": [],
   "source": [
    "rtfilepath='C:\\\\DOCUMENTS\\\\Projects\\\\Gratings\\\\Data\\\\2016\\\\May 4\\\\rvst.txt'\n",
    "substratetemp=40.5\n",
    "bias=0.03\n",
    "t,r=rt.tempreader(rtfilepath)\n",
    "drdt=rt.rtlinearfit(t,r)[0]\n",
    "resistance=rt.findresistance(substratetemp, t, r)[0]"
   ]
  },
  {
   "cell_type": "code",
   "execution_count": 4,
   "metadata": {
    "collapsed": true
   },
   "outputs": [],
   "source": [
    "#ax1 = plt.subplot2grid((2,6), (0,0), colspan=2,projection='polar')\n",
    "#ax2 = plt.subplot2grid((2,6), (0,2), colspan=2,projection='polar')\n",
    "#ax3 = plt.subplot2grid((2,6), (0,4), colspan=2,projection='polar')\n",
    "#ax4=plt.subplot2grid((2,6),(1,1), colspan=2,projection='polar')\n",
    "#ax5=plt.subplot2grid((2,6),(1,3), colspan=2,projection='polar')\n",
    "#ax1 = plt.subplot2grid((1,3), (0,0), projection='polar')\n",
    "#ax2 = plt.subplot2grid((1,3), (0,1), projection='polar')\n",
    "#ax3 = plt.subplot2grid((1,3), (0,2), projection='polar')\n",
    "ax1=plt.subplot(111, projection='polar')"
   ]
  },
  {
   "cell_type": "code",
   "execution_count": 5,
   "metadata": {
    "collapsed": false
   },
   "outputs": [],
   "source": [
    "power,x,pol=pp.polplotreader(fp1)\n",
    "pol_rad=conv.degtorad(pol)\n",
    "intensity=conv.powertointensity(power)\n",
    "dt=conv.xtodt(x,drdt,resistance,bias)\n",
    "a,b,c,_,_,_,_=pp.polfit(pol_rad,dt)\n",
    "xval=np.linspace(0,2*np.pi,100)\n",
    "ax1.set_theta_zero_location(\"N\")\n",
    "ax1.plot(pol_rad, dt, linewidth=4) \n",
    "ax1.plot(xval,ff.cossquared(xval,a,b,c),'r',linewidth=4)\n",
    "ax1.grid(True)    \n",
    "ax1.tick_params(axis='both', which='major', labelsize=20)\n",
    "#ax1.set_title(title1,horizontalalignment='center')"
   ]
  },
  {
   "cell_type": "code",
   "execution_count": 11,
   "metadata": {
    "collapsed": false
   },
   "outputs": [
    {
     "data": {
      "text/plain": [
       "<matplotlib.text.Text at 0x8615080>"
      ]
     },
     "execution_count": 11,
     "metadata": {},
     "output_type": "execute_result"
    }
   ],
   "source": [
    "power,x,pol=pp.polplotreader(fp2)\n",
    "pol_rad=conv.degtorad(pol)\n",
    "intensity=conv.powertointensity(power)\n",
    "dt=conv.xtodt(x,drdt,resistance,bias)\n",
    "a,b,c,_,_,_,_=pp.polfit(pol_rad,dt)\n",
    "xval=np.linspace(0,2*np.pi,100)\n",
    "ax2.set_theta_zero_location(\"N\")\n",
    "ax2.plot(pol_rad, dt, linewidth=2) \n",
    "ax2.plot(xval,ff.cossquared(xval,a,b,c),'r',linewidth=2)\n",
    "ax2.grid(True)    \n",
    "ax2.tick_params(axis='both', which='major', labelsize=10)\n",
    "ax2.set_title(title2,horizontalalignment='center')"
   ]
  },
  {
   "cell_type": "code",
   "execution_count": 12,
   "metadata": {
    "collapsed": false
   },
   "outputs": [
    {
     "data": {
      "text/plain": [
       "<matplotlib.text.Text at 0x82991d0>"
      ]
     },
     "execution_count": 12,
     "metadata": {},
     "output_type": "execute_result"
    }
   ],
   "source": [
    "power,x,pol=pp.polplotreader(fp3)\n",
    "pol_rad=conv.degtorad(pol)\n",
    "intensity=conv.powertointensity(power)\n",
    "dt=conv.xtodt(x,drdt,resistance,bias)\n",
    "a,b,c,_,_,_,_=pp.polfit(pol_rad,dt)\n",
    "xval=np.linspace(0,2*np.pi,100)\n",
    "ax3.set_theta_zero_location(\"N\")\n",
    "ax3.plot(pol_rad, dt, linewidth=2) \n",
    "ax3.plot(xval,ff.cossquared(xval,a,b,c),'r',linewidth=2)\n",
    "ax3.grid(True)    \n",
    "ax3.tick_params(axis='both', which='major', labelsize=10)\n",
    "ax3.set_title(title3,horizontalalignment='center')"
   ]
  },
  {
   "cell_type": "code",
   "execution_count": 13,
   "metadata": {
    "collapsed": false
   },
   "outputs": [
    {
     "data": {
      "text/plain": [
       "<matplotlib.text.Text at 0x85b4e80>"
      ]
     },
     "execution_count": 13,
     "metadata": {},
     "output_type": "execute_result"
    }
   ],
   "source": [
    "power,x,pol=pp.polplotreader(fp4)\n",
    "pol_rad=conv.degtorad(pol)\n",
    "intensity=conv.powertointensity(power)\n",
    "dt=conv.xtodt(x,drdt,resistance,bias)\n",
    "a,b,c,_,_,_,_=pp.polfit(pol_rad,dt)\n",
    "xval=np.linspace(0,2*np.pi,100)\n",
    "ax4.set_theta_zero_location(\"N\")\n",
    "ax4.plot(pol_rad, dt, linewidth=2) \n",
    "ax4.plot(xval,ff.cossquared(xval,a,b,c),'r',linewidth=2)\n",
    "ax4.grid(True)    \n",
    "ax4.tick_params(axis='both', which='major', labelsize=10)\n",
    "ax4.set_title(title4,horizontalalignment='center')"
   ]
  },
  {
   "cell_type": "code",
   "execution_count": 14,
   "metadata": {
    "collapsed": false
   },
   "outputs": [
    {
     "data": {
      "text/plain": [
       "<matplotlib.text.Text at 0x82d1cf8>"
      ]
     },
     "execution_count": 14,
     "metadata": {},
     "output_type": "execute_result"
    }
   ],
   "source": [
    "power,x,pol=pp.polplotreader(fp5)\n",
    "pol_rad=conv.degtorad(pol)\n",
    "intensity=conv.powertointensity(power)\n",
    "dt=conv.xtodt(x,drdt,resistance,bias)\n",
    "a,b,c,_,_,_,_=pp.polfit(pol_rad,dt)\n",
    "xval=np.linspace(0,2*np.pi,100)\n",
    "ax5.set_theta_zero_location(\"N\")\n",
    "ax5.plot(pol_rad, dt, linewidth=2) \n",
    "ax5.plot(xval,ff.cossquared(xval,a,b,c),'r',linewidth=2)\n",
    "ax5.grid(True)    \n",
    "ax5.tick_params(axis='both', which='major', labelsize=10)\n",
    "ax5.set_title(title5,horizontalalignment='center')"
   ]
  },
  {
   "cell_type": "code",
   "execution_count": 15,
   "metadata": {
    "collapsed": true
   },
   "outputs": [],
   "source": [
    "if not figbasename1.endswith('.png'):\n",
    "    figbasename1=figbasename1+'.png'\n",
    "figfilepath = path.join(figpath,figbasename1)"
   ]
  },
  {
   "cell_type": "code",
   "execution_count": 6,
   "metadata": {
    "collapsed": true
   },
   "outputs": [],
   "source": [
    "plt.tight_layout()\n",
    "plt.savefig('C:\\\\DOCUMENTS\\\\Projects\\\\Gratings\\\\Figures\\\\2016\\\\May 4\\\\stuff.png',format='png')\n",
    "#plt.show()"
   ]
  },
  {
   "cell_type": "code",
   "execution_count": null,
   "metadata": {
    "collapsed": true
   },
   "outputs": [],
   "source": []
  }
 ],
 "metadata": {
  "kernelspec": {
   "display_name": "Python 3",
   "language": "python",
   "name": "python3"
  },
  "language_info": {
   "codemirror_mode": {
    "name": "ipython",
    "version": 3
   },
   "file_extension": ".py",
   "mimetype": "text/x-python",
   "name": "python",
   "nbconvert_exporter": "python",
   "pygments_lexer": "ipython3",
   "version": "3.5.1"
  }
 },
 "nbformat": 4,
 "nbformat_minor": 0
}
