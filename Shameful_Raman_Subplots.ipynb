{
 "cells": [
  {
   "cell_type": "code",
   "execution_count": 1,
   "metadata": {
    "collapsed": false
   },
   "outputs": [
    {
     "name": "stdout",
     "output_type": "stream",
     "text": [
      "[]\n"
     ]
    }
   ],
   "source": [
    "from heating import conversions as conv\n",
    "from heating import fitfunctions as ff\n",
    "from heating import goodnessoffit as gf\n",
    "from heating import pathutil as putil\n",
    "from heating import polplots as pp\n",
    "from heating import resistancevstemp as rt\n",
    "import numpy as np\n",
    "import matplotlib.pyplot as plt\n",
    "import os\n",
    "from os import path\n",
    "from heating import raman_scratch_2 as rs"
   ]
  },
  {
   "cell_type": "code",
   "execution_count": 577,
   "metadata": {
    "collapsed": false
   },
   "outputs": [
    {
     "name": "stdout",
     "output_type": "stream",
     "text": [
      "C:\\DOCUMENTS\\Projects\\Gratings\\Figures\\2016\\Aug 2\\1-11 5kohm Carbon Raman Plots Gratings.png\n"
     ]
    }
   ],
   "source": [
    "rtfilepath='C:\\\\DOCUMENTS\\\\Projects\\\\Gratings\\\\Data\\\\2016\\\\Aug 2\\\\rvst.txt'\n",
    "substratetemp=40.5\n",
    "bias=0.03\n",
    "startwavelength=851\n",
    "endwavelength=898\n",
    "figpath='C:\\\\DOCUMENTS\\\\Projects\\\\Gratings\\\\Figures\\\\2016\\\\Aug 2'\n",
    "figtitle='1-11 5kohm Carbon Raman Plots Gratings'\n",
    "datafilepatha='C:\\\\DOCUMENTS\\\\Projects\\\\Gratings\\\\Data\\\\2016\\\\Aug 2\\\\Gphoto\\\\1_11_6_RamanSpectra.txt'\n",
    "titlea='Pre-Break Pol: 0'\n",
    "datafilepathb='C:\\\\DOCUMENTS\\\\Projects\\\\Gratings\\\\Data\\\\2016\\\\Aug 2\\\\Gphoto\\\\1_11_5_RamanSpectra.txt'\n",
    "titleb='Pre-Break Pol: 90'\n",
    "datafilepathc='C:\\\\DOCUMENTS\\\\Projects\\\\Gratings\\\\Data\\\\2016\\\\Aug 2\\\\Gphoto\\\\1_11_12_RamanSpectra.txt'\n",
    "titlec='5k ohm Post-Break Pol: 0'\n",
    "datafilepathd='C:\\\\DOCUMENTS\\\\Projects\\\\Gratings\\\\Data\\\\2016\\\\Aug 2\\\\Gphoto\\\\1_11_13_RamanSpectra.txt'\n",
    "titled='5k ohm Post-Break Pol: 90'\n",
    "figbasename = path.splitext(path.basename(figtitle))[0]+'.png'\n",
    "figfilepath = path.join(figpath,figbasename)\n",
    "print(figfilepath)"
   ]
  },
  {
   "cell_type": "code",
   "execution_count": 578,
   "metadata": {
    "collapsed": true
   },
   "outputs": [],
   "source": [
    "ax1 = plt.subplot2grid((2,2), (0,0))\n",
    "ax2 = plt.subplot2grid((2,2), (0,1))\n",
    "ax3 = plt.subplot2grid((2,2), (1,0))\n",
    "ax4 = plt.subplot2grid((2,2), (1,1))"
   ]
  },
  {
   "cell_type": "code",
   "execution_count": 579,
   "metadata": {
    "collapsed": false
   },
   "outputs": [
    {
     "data": {
      "text/plain": [
       "<matplotlib.text.Text at 0x24513668>"
      ]
     },
     "execution_count": 579,
     "metadata": {},
     "output_type": "execute_result"
    }
   ],
   "source": [
    "array = np.loadtxt(datafilepatha, delimiter='\\t').T\n",
    "wavelength = array[array.shape[0] - 1, :]\n",
    "raman_scans = array[:-1, :]\n",
    "startindex=rs.find_nearest(wavelength,startwavelength)\n",
    "endindex=rs.find_nearest(wavelength,endwavelength)\n",
    "integratedvalues = np.zeros(900)\n",
    "n = 0\n",
    "for raman_scan in raman_scans:\n",
    "    integratedvalues[n] = sum(raman_scan[i] for i in range(startindex, endindex))\n",
    "    n += 1\n",
    "square = np.reshape(integratedvalues, (30, 30))\n",
    "smallest = square.min()\n",
    "#largest=185000\n",
    "largest = sorted(integratedvalues, reverse=True)[10]\n",
    "im = ax1.imshow(square, cmap='coolwarm', interpolation='none', vmin=smallest, vmax=largest)\n",
    "clb = plt.colorbar(im, orientation='vertical')\n",
    "im.set_clim(smallest,largest)\n",
    "#plt.clim(square.min(), largest)\n",
    "ax1.set_title(titlea)"
   ]
  },
  {
   "cell_type": "code",
   "execution_count": 580,
   "metadata": {
    "collapsed": false
   },
   "outputs": [
    {
     "data": {
      "text/plain": [
       "<matplotlib.text.Text at 0x249bb5f8>"
      ]
     },
     "execution_count": 580,
     "metadata": {},
     "output_type": "execute_result"
    }
   ],
   "source": [
    "array = np.loadtxt(datafilepathb, delimiter='\\t').T\n",
    "wavelength = array[array.shape[0] - 1, :]\n",
    "raman_scans = array[:-1, :]\n",
    "startindex=rs.find_nearest(wavelength,startwavelength)\n",
    "endindex=rs.find_nearest(wavelength,endwavelength)\n",
    "integratedvalues = np.zeros(900)\n",
    "n = 0\n",
    "for raman_scan in raman_scans:\n",
    "    integratedvalues[n] = sum(raman_scan[i] for i in range(startindex, endindex))\n",
    "    n += 1\n",
    "square = np.reshape(integratedvalues, (30, 30))\n",
    "im = ax2.imshow(square, cmap='coolwarm', interpolation='none', vmin=smallest, vmax=largest)\n",
    "im.set_clim(smallest,largest)\n",
    "ax2.set_title(titleb)"
   ]
  },
  {
   "cell_type": "code",
   "execution_count": 581,
   "metadata": {
    "collapsed": false,
    "scrolled": true
   },
   "outputs": [
    {
     "data": {
      "text/plain": [
       "<matplotlib.text.Text at 0x245600b8>"
      ]
     },
     "execution_count": 581,
     "metadata": {},
     "output_type": "execute_result"
    }
   ],
   "source": [
    "array = np.loadtxt(datafilepathc, delimiter='\\t').T\n",
    "wavelength = array[array.shape[0] - 1, :]\n",
    "raman_scans = array[:-1, :]\n",
    "startindex=rs.find_nearest(wavelength,startwavelength)\n",
    "endindex=rs.find_nearest(wavelength,endwavelength)\n",
    "integratedvalues = np.zeros(900)\n",
    "n = 0\n",
    "for raman_scan in raman_scans:\n",
    "    integratedvalues[n] = sum(raman_scan[i] for i in range(startindex, endindex))\n",
    "    n += 1\n",
    "square = np.reshape(integratedvalues, (30, 30))\n",
    "im = ax3.imshow(square, cmap='coolwarm', interpolation='none', vmin=smallest, vmax=largest)\n",
    "im.set_clim(smallest,largest)\n",
    "ax3.set_title(titlec)"
   ]
  },
  {
   "cell_type": "code",
   "execution_count": 582,
   "metadata": {
    "collapsed": false
   },
   "outputs": [
    {
     "data": {
      "text/plain": [
       "<matplotlib.text.Text at 0x2631cb38>"
      ]
     },
     "execution_count": 582,
     "metadata": {},
     "output_type": "execute_result"
    }
   ],
   "source": [
    "array = np.loadtxt(datafilepathd, delimiter='\\t').T\n",
    "wavelength = array[array.shape[0] - 1, :]\n",
    "raman_scans = array[:-1, :]\n",
    "startindex=rs.find_nearest(wavelength,startwavelength)\n",
    "endindex=rs.find_nearest(wavelength,endwavelength)\n",
    "integratedvalues = np.zeros(900)\n",
    "n = 0\n",
    "for raman_scan in raman_scans:\n",
    "    integratedvalues[n] = sum(raman_scan[i] for i in range(startindex, endindex))\n",
    "    n += 1\n",
    "square = np.reshape(integratedvalues, (30, 30))\n",
    "im = ax4.imshow(square, cmap='coolwarm', interpolation='none', vmin=smallest, vmax=largest)\n",
    "im.set_clim(smallest,largest)\n",
    "ax4.set_title(titled)"
   ]
  },
  {
   "cell_type": "code",
   "execution_count": 583,
   "metadata": {
    "collapsed": false
   },
   "outputs": [],
   "source": [
    "plt.suptitle(figtitle)\n",
    "#plt.tight_layout()\n",
    "plt.savefig(figfilepath + '.png',format='png')\n",
    "#plt.show()"
   ]
  },
  {
   "cell_type": "code",
   "execution_count": null,
   "metadata": {
    "collapsed": true
   },
   "outputs": [],
   "source": []
  },
  {
   "cell_type": "code",
   "execution_count": null,
   "metadata": {
    "collapsed": true
   },
   "outputs": [],
   "source": []
  }
 ],
 "metadata": {
  "kernelspec": {
   "display_name": "Python 3",
   "language": "python",
   "name": "python3"
  },
  "language_info": {
   "codemirror_mode": {
    "name": "ipython",
    "version": 3
   },
   "file_extension": ".py",
   "mimetype": "text/x-python",
   "name": "python",
   "nbconvert_exporter": "python",
   "pygments_lexer": "ipython3",
   "version": "3.5.1"
  }
 },
 "nbformat": 4,
 "nbformat_minor": 0
}
