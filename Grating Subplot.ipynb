{
 "cells": [
  {
   "cell_type": "code",
   "execution_count": 1,
   "metadata": {
    "collapsed": true
   },
   "outputs": [],
   "source": [
    "from heating import conversions as conv\n",
    "from heating import fitfunctions as ff\n",
    "from heating import goodnessoffit as gf\n",
    "from heating import pathutil as putil\n",
    "from heating import polplots as pp\n",
    "from heating import resistancevstemp as rt\n",
    "import numpy as np\n",
    "import matplotlib.pyplot as plt\n",
    "import os\n",
    "from os import path"
   ]
  },
  {
   "cell_type": "code",
   "execution_count": 2,
   "metadata": {
    "collapsed": true
   },
   "outputs": [],
   "source": [
    "rtfilepath='C:\\\\DOCUMENTS\\\\Projects\\\\Gratings\\\\Data\\\\2016\\\\April 20\\\\rvst.txt'\n",
    "substratetemp=40.5\n",
    "bias=0.03\n",
    "polfilepatha1='C:\\\\DOCUMENTS\\\\Projects\\\\Gratings\\\\Data\\\\2016\\\\April 20\\\\Iphoto redo\\\\1_12_10.txt'\n",
    "polfilepatha2='C:\\\\DOCUMENTS\\\\Projects\\\\Gratings\\\\Data\\\\2016\\\\April 20\\\\Iphoto redo\\\\1_12_10.txt'\n",
    "polfilepatha3='C:\\\\DOCUMENTS\\\\Projects\\\\Gratings\\\\Data\\\\2016\\\\April 20\\\\Iphoto redo\\\\1_12_10.txt'\n",
    "polfilepatha4='C:\\\\DOCUMENTS\\\\Projects\\\\Gratings\\\\Data\\\\2016\\\\April 20\\\\Iphoto redo\\\\1_9_15.txt'\n",
    "titlea='On 1st Grating'\n",
    "labela1='0 pol'\n",
    "labela2='90 pol'\n",
    "polfilepathb1='C:\\\\DOCUMENTS\\\\Projects\\\\Gratings\\\\Data\\\\2016\\\\April 20\\\\Iphoto redo\\\\1_9_15.txt'  \n",
    "polfilepathb2='C:\\\\DOCUMENTS\\\\Projects\\\\Gratings\\\\Data\\\\2016\\\\April 20\\\\Iphoto redo\\\\1_9_15.txt'\n",
    "polfilepathb3='C:\\\\DOCUMENTS\\\\Projects\\\\Gratings\\\\Data\\\\2016\\\\April 20\\\\Iphoto redo\\\\1_9_15.txt'\n",
    "polfilepathb4='C:\\\\DOCUMENTS\\\\Projects\\\\Gratings\\\\Data\\\\2016\\\\April 20\\\\Iphoto redo\\\\1_9_15.txt'\n",
    "titleb='On 2nd Grating'\n",
    "labelb1='0 pol'\n",
    "labelb2='90 pol'\n",
    "polfilepathc1='C:\\\\DOCUMENTS\\\\Projects\\\\Gratings\\\\Data\\\\2016\\\\April 20\\\\Iphoto redo\\\\1_9_15.txt'\n",
    "polfilepathc2='C:\\\\DOCUMENTS\\\\Projects\\\\Gratings\\\\Data\\\\2016\\\\April 20\\\\Iphoto redo\\\\1_9_15.txt'\n",
    "polfilepathc3='C:\\\\DOCUMENTS\\\\Projects\\\\Gratings\\\\Data\\\\2016\\\\April 20\\\\Iphoto redo\\\\1_9_15.txt'\n",
    "polfilepathc4='C:\\\\DOCUMENTS\\\\Projects\\\\Gratings\\\\Data\\\\2016\\\\April 20\\\\Iphoto redo\\\\1_9_15.txt'\n",
    "titlec='On 3rd Grating'\n",
    "labelc1='0 pol'\n",
    "labelc2='90 pol'\n",
    "figpath='C:\\\\DOCUMENTS\\\\Projects\\\\Gratings\\\\Figures\\\\2016\\\\April 20'\n",
    "figbasename1='April 20 Grating Intensity Plots'"
   ]
  },
  {
   "cell_type": "code",
   "execution_count": 3,
   "metadata": {
    "collapsed": true
   },
   "outputs": [],
   "source": [
    "ax1 = plt.subplot2grid((3,1), (0,0))\n",
    "ax2 = plt.subplot2grid((3,1), (1,0),sharex=ax1, sharey=ax1)\n",
    "ax3 = plt.subplot2grid((3,1), (2, 0),sharex=ax1, sharey=ax1)"
   ]
  },
  {
   "cell_type": "code",
   "execution_count": 4,
   "metadata": {
    "collapsed": true
   },
   "outputs": [],
   "source": [
    "x,y,z=pp.polplotreader(polfilepatha1)\n",
    "a,b,c=pp.polplotreader(polfilepatha2)\n",
    "d,e,f=pp.polplotreader(polfilepatha3)\n",
    "g,h,i=pp.polplotreader(polfilepatha4)"
   ]
  },
  {
   "cell_type": "code",
   "execution_count": 5,
   "metadata": {
    "collapsed": true
   },
   "outputs": [],
   "source": [
    "power=np.concatenate((a,x), axis=0)\n",
    "xx=np.concatenate((b,y),axis=0)\n",
    "pol=np.concatenate((c,z),axis=0)\n",
    "power2=np.concatenate((d,g), axis=0)\n",
    "xx2=np.concatenate((e,h),axis=0)\n",
    "pol2=np.concatenate((f,i),axis=0)"
   ]
  },
  {
   "cell_type": "code",
   "execution_count": 6,
   "metadata": {
    "collapsed": false
   },
   "outputs": [],
   "source": [
    "t,r=rt.tempreader(rtfilepath)\n",
    "drdt=rt.rtlinearfit(t,r)[0]\n",
    "resistance=rt.findresistance(substratetemp, t, r)[0]"
   ]
  },
  {
   "cell_type": "code",
   "execution_count": 7,
   "metadata": {
    "collapsed": true
   },
   "outputs": [],
   "source": [
    "pol_rad=conv.degtorad(pol)\n",
    "intensity=conv.powertointensity(power)\n",
    "dt=conv.xtodt(xx,drdt,resistance,bias)\n",
    "pol_rad2=conv.degtorad(pol2)\n",
    "intensity2=conv.powertointensity(power2)\n",
    "dt2=conv.xtodt(xx2,drdt,resistance,bias)"
   ]
  },
  {
   "cell_type": "code",
   "execution_count": 8,
   "metadata": {
    "collapsed": false
   },
   "outputs": [
    {
     "data": {
      "text/plain": [
       "<matplotlib.legend.Legend at 0x7958080>"
      ]
     },
     "execution_count": 8,
     "metadata": {},
     "output_type": "execute_result"
    }
   ],
   "source": [
    "ax1.scatter(intensity, dt, s=10, c='b', marker=\"s\", label=labela1)\n",
    "ax1.scatter(intensity2,dt2, s=10, c='r', marker=\"o\", label=labela2)\n",
    "ax1.set_xlabel(\"Intensity (kW/cm$^2$)\")\n",
    "ax1.set_ylabel(\"$\\Delta$T (K)\")\n",
    "ax1.set_ylim(ymin=0)\n",
    "ax1.set_xlim(xmin=0,xmax=400)\n",
    "ax1.set_title(titlea,horizontalalignment='center')\n",
    "ax1.legend(loc='upper left',fontsize = 'x-small')"
   ]
  },
  {
   "cell_type": "code",
   "execution_count": 9,
   "metadata": {
    "collapsed": true
   },
   "outputs": [],
   "source": [
    "x,y,z=pp.polplotreader(polfilepathb1)\n",
    "a,b,c=pp.polplotreader(polfilepathb2)\n",
    "d,e,f=pp.polplotreader(polfilepathb3)\n",
    "g,h,i=pp.polplotreader(polfilepathb4)"
   ]
  },
  {
   "cell_type": "code",
   "execution_count": 10,
   "metadata": {
    "collapsed": true
   },
   "outputs": [],
   "source": [
    "power3=np.concatenate((a,x), axis=0)\n",
    "xx3=np.concatenate((b,y),axis=0)\n",
    "pol3=np.concatenate((c,z),axis=0)\n",
    "power4=np.concatenate((d,g), axis=0)\n",
    "xx4=np.concatenate((e,h),axis=0)\n",
    "pol4=np.concatenate((f,i),axis=0)"
   ]
  },
  {
   "cell_type": "code",
   "execution_count": 11,
   "metadata": {
    "collapsed": true
   },
   "outputs": [],
   "source": [
    "pol_rad3=conv.degtorad(pol3)\n",
    "intensity3=conv.powertointensity(power3)\n",
    "dt3=conv.xtodt(xx3,drdt,resistance,bias)\n",
    "pol_rad4=conv.degtorad(pol4)\n",
    "intensity4=conv.powertointensity(power4)\n",
    "dt4=conv.xtodt(xx4,drdt,resistance,bias)"
   ]
  },
  {
   "cell_type": "code",
   "execution_count": 12,
   "metadata": {
    "collapsed": false
   },
   "outputs": [
    {
     "data": {
      "text/plain": [
       "<matplotlib.legend.Legend at 0x94f7828>"
      ]
     },
     "execution_count": 12,
     "metadata": {},
     "output_type": "execute_result"
    }
   ],
   "source": [
    "ax2.scatter(intensity3, dt3, s=10, c='b', marker=\"s\", label=labela1)\n",
    "ax2.scatter(intensity4,dt4, s=10, c='r', marker=\"o\", label=labela2)\n",
    "ax2.set_xlabel(\"Intensity (kW/cm$^2$)\")\n",
    "ax2.set_ylabel(\"$\\Delta$T (K)\")\n",
    "ax2.set_ylim(ymin=0)\n",
    "ax2.set_xlim(xmin=0,xmax=400)\n",
    "ax2.set_title(titleb,horizontalalignment='center')\n",
    "ax2.legend(loc='upper left',fontsize = 'x-small')"
   ]
  },
  {
   "cell_type": "code",
   "execution_count": 13,
   "metadata": {
    "collapsed": true
   },
   "outputs": [],
   "source": [
    "x,y,z=pp.polplotreader(polfilepathc1)\n",
    "a,b,c=pp.polplotreader(polfilepathc2)\n",
    "d,e,f=pp.polplotreader(polfilepathc3)\n",
    "g,h,i=pp.polplotreader(polfilepathc4)"
   ]
  },
  {
   "cell_type": "code",
   "execution_count": 14,
   "metadata": {
    "collapsed": true
   },
   "outputs": [],
   "source": [
    "power3=np.concatenate((a,x), axis=0)\n",
    "xx3=np.concatenate((b,y),axis=0)\n",
    "pol3=np.concatenate((c,z),axis=0)\n",
    "power4=np.concatenate((d,g), axis=0)\n",
    "xx4=np.concatenate((e,h),axis=0)\n",
    "pol4=np.concatenate((f,i),axis=0)"
   ]
  },
  {
   "cell_type": "code",
   "execution_count": 15,
   "metadata": {
    "collapsed": true
   },
   "outputs": [],
   "source": [
    "pol_rad3=conv.degtorad(pol3)\n",
    "intensity3=conv.powertointensity(power3)\n",
    "dt3=conv.xtodt(xx3,drdt,resistance,bias)\n",
    "pol_rad4=conv.degtorad(pol4)\n",
    "intensity4=conv.powertointensity(power4)\n",
    "dt4=conv.xtodt(xx4,drdt,resistance,bias)"
   ]
  },
  {
   "cell_type": "code",
   "execution_count": 16,
   "metadata": {
    "collapsed": false
   },
   "outputs": [
    {
     "data": {
      "text/plain": [
       "<matplotlib.legend.Legend at 0x8f176d8>"
      ]
     },
     "execution_count": 16,
     "metadata": {},
     "output_type": "execute_result"
    }
   ],
   "source": [
    "ax3.scatter(intensity3, dt3, s=10, c='b', marker=\"s\", label=labela1)\n",
    "ax3.scatter(intensity4,dt4, s=10, c='r', marker=\"o\", label=labela2)\n",
    "ax3.set_xlabel(\"Intensity (kW/cm$^2$)\")\n",
    "ax3.set_ylabel(\"$\\Delta$T (K)\")\n",
    "ax3.set_ylim(ymin=0)\n",
    "ax3.set_xlim(xmin=0,xmax=400)\n",
    "ax3.set_title(titlec,horizontalalignment='center')\n",
    "ax3.legend(loc='upper left',fontsize = 'x-small')"
   ]
  },
  {
   "cell_type": "code",
   "execution_count": 17,
   "metadata": {
    "collapsed": false
   },
   "outputs": [],
   "source": [
    "if not figbasename1.endswith('.png'):\n",
    "    figbasename1=figbasename1+'.png'\n",
    "figfilepath = path.join(figpath,figbasename1)"
   ]
  },
  {
   "cell_type": "code",
   "execution_count": 18,
   "metadata": {
    "collapsed": true
   },
   "outputs": [],
   "source": [
    "plt.tight_layout()\n",
    "plt.savefig(figfilepath,format='png')"
   ]
  }
 ],
 "metadata": {
  "kernelspec": {
   "display_name": "Python 3",
   "language": "python",
   "name": "python3"
  },
  "language_info": {
   "codemirror_mode": {
    "name": "ipython",
    "version": 3
   },
   "file_extension": ".py",
   "mimetype": "text/x-python",
   "name": "python",
   "nbconvert_exporter": "python",
   "pygments_lexer": "ipython3",
   "version": "3.5.1"
  }
 },
 "nbformat": 4,
 "nbformat_minor": 0
}
