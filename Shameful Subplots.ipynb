{
 "cells": [
  {
   "cell_type": "code",
   "execution_count": 13,
   "metadata": {
    "collapsed": true
   },
   "outputs": [],
   "source": [
    "from heating import conversions as conv\n",
    "from heating import fitfunctions as ff\n",
    "from heating import goodnessoffit as gf\n",
    "from heating import pathutil as putil\n",
    "from heating import polplots as pp\n",
    "from heating import resistancevstemp as rt\n",
    "import numpy as np\n",
    "import matplotlib.pyplot as plt\n",
    "import os\n",
    "from os import path"
   ]
  },
  {
   "cell_type": "code",
   "execution_count": 32,
   "metadata": {
    "collapsed": false
   },
   "outputs": [],
   "source": [
    "rtfilepath='C:\\\\DOCUMENTS\\\\Projects\\\\Gratings\\\\Data\\\\2016\\\\April 20\\\\rvst.txt'\n",
    "substratetemp=40.5\n",
    "bias=0.03\n",
    "figpath='C:\\\\DOCUMENTS\\\\Projects\\\\Gratings\\\\Figures\\\\2016\\\\April 20'\n",
    "figbasename='2-6 Intensity Plots'\n",
    "polfilepatha1='C:\\\\DOCUMENTS\\\\Projects\\\\Gratings\\\\Data\\\\2016\\\\April 20\\\\Iphoto redo\\\\2_6_7.txt'\n",
    "polfilepatha2='C:\\\\DOCUMENTS\\\\Projects\\\\Gratings\\\\Data\\\\2016\\\\April 20\\\\Iphoto redo\\\\2_6_7.txt'\n",
    "polfilepatha3='C:\\\\DOCUMENTS\\\\Projects\\\\Gratings\\\\Data\\\\2016\\\\April 20\\\\Iphoto redo\\\\2_6_8.txt'\n",
    "polfilepatha4='C:\\\\DOCUMENTS\\\\Projects\\\\Gratings\\\\Data\\\\2016\\April 20\\\\Iphoto redo\\\\2_6_8.txt'\n",
    "titlea='On Junction'\n",
    "labela1='0 pol'\n",
    "labela2='90 pol'\n",
    "polfilepathb1='C:\\\\DOCUMENTS\\\\Projects\\\\Gratings\\\\Data\\\\2016\\\\April 20\\\\Iphoto redo\\\\2_6_7.txt'\n",
    "polfilepathb2='C:\\\\DOCUMENTS\\\\Projects\\\\Gratings\\\\Data\\\\2016\\\\April 20\\\\Iphoto redo\\\\2_6_7.txt'\n",
    "polfilepathb3='C:\\\\DOCUMENTS\\\\Projects\\\\Gratings\\\\Data\\\\2016\\\\April 20\\\\Iphoto redo\\\\2_6_7.txt'\n",
    "polfilepathb4='C:\\\\DOCUMENTS\\\\Projects\\\\Gratings\\\\Data\\\\2016\\\\April 20\\\\Iphoto redo\\\\2_11_11.txt'\n",
    "titleb='On 2nd Grating'\n",
    "labelb1='0 pol'\n",
    "labelb2='90 pol'\n",
    "polfilepathc1='C:\\\\DOCUMENTS\\\\Projects\\\\Gratings\\\\Data\\\\2016\\\\April 20\\\\Iphoto redo\\\\1_12_14.txt'\n",
    "polfilepathc2='C:\\\\DOCUMENTS\\\\Projects\\\\Gratings\\\\Data\\\\2016\\\\April 20\\\\Iphoto redo\\\\1_12_14.txt'\n",
    "polfilepathc3='C:\\\\DOCUMENTS\\\\Projects\\\\Gratings\\\\Data\\\\2016\\\\April 20\\\\Iphoto redo\\\\1_12_13.txt'\n",
    "polfilepathc4='C:\\\\DOCUMENTS\\\\Projects\\\\Gratings\\\\Data\\\\2016\\\\April 20\\\\Iphoto redo\\\\1_12_13.txt'\n",
    "titlec='On Gold'\n",
    "labelc1='0 pol'\n",
    "labelc2='90 pol'\n",
    "polfilepathd1='C:\\\\DOCUMENTS\\\\Projects\\\\Gratings\\\\Data\\\\2016\\May 4\\\\iphoto\\\\2_11_13.txt'\n",
    "polfilepathd2='C:\\\\DOCUMENTS\\\\Projects\\\\Gratings\\\\Data\\\\2016\\May 4\\\\iphoto\\\\2_11_13.txt'\n",
    "polfilepathd3='C:\\\\DOCUMENTS\\\\Projects\\\\Gratings\\\\Data\\\\2016\\May 4\\\\iphoto\\\\2_11_12.txt'\n",
    "polfilepathd4='C:\\\\DOCUMENTS\\\\Projects\\\\Gratings\\\\Data\\\\2016\\May 4\\\\iphoto\\\\2_11_12.txt'\n",
    "titled='On Gold'\n",
    "labeld1='0 pol'\n",
    "labeld2='90 pol'\n",
    "polfilepathe1='C:\\\\DOCUMENTS\\\\Projects\\\\Gratings\\\\Data\\\\2016\\May 4\\\\iphoto\\\\2_4_20.txt'\n",
    "polfilepathe2='C:\\\\DOCUMENTS\\\\Projects\\\\Gratings\\\\Data\\\\2016\\May 4\\\\iphoto\\\\2_4_20.txt'\n",
    "polfilepathe3='C:\\\\DOCUMENTS\\\\Projects\\\\Gratings\\\\Data\\\\2016\\May 4\\\\iphoto\\\\2_4_21.txt'\n",
    "polfilepathe4='C:\\\\DOCUMENTS\\\\Projects\\\\Gratings\\\\Data\\\\2016\\May 4\\\\iphoto\\\\2_4_21.txt'\n",
    "titlee='On Silicon'\n",
    "labele1='0 pol'\n",
    "labele2='90 pol'\n",
    "figbasename = path.splitext(path.basename(figbasename))[0]+'.png'\n",
    "figfilepath = path.join(figpath,figbasename)"
   ]
  },
  {
   "cell_type": "code",
   "execution_count": 33,
   "metadata": {
    "collapsed": false
   },
   "outputs": [],
   "source": [
    "#ax1 = plt.subplot2grid((6,6), (0,0),colspan=6, rowspan=2)\n",
    "#ax2 = plt.subplot2grid((6,6), (2,0),colspan=3,rowspan=2)\n",
    "#ax3 = plt.subplot2grid((6,6), (2, 3),colspan=3,rowspan=2)\n",
    "#ax4 = plt.subplot2grid((6,6), (4, 0),colspan=3,rowspan=2)\n",
    "#ax5 = plt.subplot2grid((6,6), (4, 3),colspan=3,rowspan=2)\n",
    "ax1 = plt.subplot2grid((3,1), (0,0))\n",
    "ax2 = plt.subplot2grid((3,1), (1,0))\n",
    "ax3 = plt.subplot2grid((3,1), (2,0))"
   ]
  },
  {
   "cell_type": "code",
   "execution_count": 34,
   "metadata": {
    "collapsed": false
   },
   "outputs": [],
   "source": [
    "x,y,z=pp.polplotreader(polfilepatha1)\n",
    "a,b,c=pp.polplotreader(polfilepatha2)\n",
    "d,e,f=pp.polplotreader(polfilepatha3)\n",
    "g,h,i=pp.polplotreader(polfilepatha4)"
   ]
  },
  {
   "cell_type": "code",
   "execution_count": 35,
   "metadata": {
    "collapsed": true
   },
   "outputs": [],
   "source": [
    "power=np.concatenate((a,x), axis=0)\n",
    "xx=np.concatenate((b,y),axis=0)\n",
    "pol=np.concatenate((c,z),axis=0)\n",
    "power2=np.concatenate((d,g), axis=0)\n",
    "xx2=np.concatenate((e,h),axis=0)\n",
    "pol2=np.concatenate((f,i),axis=0)"
   ]
  },
  {
   "cell_type": "code",
   "execution_count": 36,
   "metadata": {
    "collapsed": true
   },
   "outputs": [],
   "source": [
    "t,r=rt.tempreader(rtfilepath)\n",
    "drdt=rt.rtlinearfit(t,r)[0]\n",
    "resistance=rt.findresistance(substratetemp, t, r)[0]"
   ]
  },
  {
   "cell_type": "code",
   "execution_count": 37,
   "metadata": {
    "collapsed": true
   },
   "outputs": [],
   "source": [
    "pol_rad=conv.degtorad(pol)\n",
    "intensity=conv.powertointensity(power)\n",
    "dt=conv.xtodt(xx,drdt,resistance,bias)\n",
    "pol_rad2=conv.degtorad(pol2)\n",
    "intensity2=conv.powertointensity(power2)\n",
    "dt2=conv.xtodt(xx2,drdt,resistance,bias)"
   ]
  },
  {
   "cell_type": "code",
   "execution_count": 38,
   "metadata": {
    "collapsed": false
   },
   "outputs": [
    {
     "data": {
      "text/plain": [
       "<matplotlib.legend.Legend at 0x8c4a588>"
      ]
     },
     "execution_count": 38,
     "metadata": {},
     "output_type": "execute_result"
    }
   ],
   "source": [
    "ax1.scatter(intensity, dt, s=10, c='b', marker=\"s\", label=labela1)\n",
    "ax1.scatter(intensity2,dt2, s=10, c='r', marker=\"o\", label=labela2)\n",
    "ax1.set_xlabel(\"Intensity (kW/cm$^2$)\")\n",
    "ax1.set_ylabel(\"$\\Delta$T (K)\")\n",
    "ax1.set_ylim(ymin=0)\n",
    "ax1.set_xlim(xmin=0,xmax=400)\n",
    "ax1.set_title(titlea,horizontalalignment='center')\n",
    "ax1.legend(loc='upper left',fontsize = 'x-small')"
   ]
  },
  {
   "cell_type": "code",
   "execution_count": 39,
   "metadata": {
    "collapsed": false
   },
   "outputs": [],
   "source": [
    "x,y,z=pp.polplotreader(polfilepathb1)\n",
    "a,b,c=pp.polplotreader(polfilepathb2)\n",
    "d,e,f=pp.polplotreader(polfilepathb3)\n",
    "g,h,i=pp.polplotreader(polfilepathb4)"
   ]
  },
  {
   "cell_type": "code",
   "execution_count": 40,
   "metadata": {
    "collapsed": true
   },
   "outputs": [],
   "source": [
    "power3=np.concatenate((a,x), axis=0)\n",
    "xx3=np.concatenate((b,y),axis=0)\n",
    "pol3=np.concatenate((c,z),axis=0)\n",
    "power4=np.concatenate((d,g), axis=0)\n",
    "xx4=np.concatenate((e,h),axis=0)\n",
    "pol4=np.concatenate((f,i),axis=0)"
   ]
  },
  {
   "cell_type": "code",
   "execution_count": 41,
   "metadata": {
    "collapsed": true
   },
   "outputs": [],
   "source": [
    "pol_rad3=conv.degtorad(pol3)\n",
    "intensity3=conv.powertointensity(power3)\n",
    "dt3=conv.xtodt(xx3,drdt,resistance,bias)\n",
    "pol_rad4=conv.degtorad(pol4)\n",
    "intensity4=conv.powertointensity(power4)\n",
    "dt4=conv.xtodt(xx4,drdt,resistance,bias)"
   ]
  },
  {
   "cell_type": "code",
   "execution_count": 42,
   "metadata": {
    "collapsed": false
   },
   "outputs": [
    {
     "data": {
      "text/plain": [
       "<matplotlib.legend.Legend at 0x8d0a908>"
      ]
     },
     "execution_count": 42,
     "metadata": {},
     "output_type": "execute_result"
    }
   ],
   "source": [
    "ax2.scatter(intensity3, dt3, s=10, c='b', marker=\"s\", label=labela1)\n",
    "ax2.scatter(intensity4,dt4, s=10, c='r', marker=\"o\", label=labela2)\n",
    "ax2.set_xlabel(\"Intensity (kW/cm$^2$)\")\n",
    "ax2.set_ylabel(\"$\\Delta$T (K)\")\n",
    "ax2.set_ylim(ymin=0)\n",
    "ax2.set_xlim(xmin=0,xmax=400)\n",
    "ax2.set_title(titleb,horizontalalignment='center')\n",
    "ax2.legend(loc='upper left',fontsize = 'x-small')"
   ]
  },
  {
   "cell_type": "code",
   "execution_count": 43,
   "metadata": {
    "collapsed": true
   },
   "outputs": [],
   "source": [
    "x,y,z=pp.polplotreader(polfilepathc1)\n",
    "a,b,c=pp.polplotreader(polfilepathc2)\n",
    "d,e,f=pp.polplotreader(polfilepathc3)\n",
    "g,h,i=pp.polplotreader(polfilepathc4)"
   ]
  },
  {
   "cell_type": "code",
   "execution_count": 44,
   "metadata": {
    "collapsed": true
   },
   "outputs": [],
   "source": [
    "power3=np.concatenate((a,x), axis=0)\n",
    "xx3=np.concatenate((b,y),axis=0)\n",
    "pol3=np.concatenate((c,z),axis=0)\n",
    "power4=np.concatenate((d,g), axis=0)\n",
    "xx4=np.concatenate((e,h),axis=0)\n",
    "pol4=np.concatenate((f,i),axis=0)"
   ]
  },
  {
   "cell_type": "code",
   "execution_count": 45,
   "metadata": {
    "collapsed": true
   },
   "outputs": [],
   "source": [
    "pol_rad3=conv.degtorad(pol3)\n",
    "intensity3=conv.powertointensity(power3)\n",
    "dt3=conv.xtodt(xx3,drdt,resistance,bias)\n",
    "pol_rad4=conv.degtorad(pol4)\n",
    "intensity4=conv.powertointensity(power4)\n",
    "dt4=conv.xtodt(xx4,drdt,resistance,bias)"
   ]
  },
  {
   "cell_type": "code",
   "execution_count": 46,
   "metadata": {
    "collapsed": false
   },
   "outputs": [
    {
     "data": {
      "text/plain": [
       "<matplotlib.legend.Legend at 0x7839978>"
      ]
     },
     "execution_count": 46,
     "metadata": {},
     "output_type": "execute_result"
    }
   ],
   "source": [
    "ax3.scatter(intensity3, dt3, s=10, c='b', marker=\"s\", label=labela1)\n",
    "ax3.scatter(intensity4,dt4, s=10, c='r', marker=\"o\", label=labela2)\n",
    "ax3.set_xlabel(\"Intensity (kW/cm$^2$)\")\n",
    "ax3.set_ylabel(\"$\\Delta$T (K)\")\n",
    "ax3.set_ylim(ymin=0)\n",
    "ax3.set_xlim(xmin=0,xmax=400)\n",
    "ax3.set_title(titlec,horizontalalignment='center')\n",
    "ax3.legend(loc='upper left',fontsize = 'x-small')"
   ]
  },
  {
   "cell_type": "code",
   "execution_count": 17,
   "metadata": {
    "collapsed": true
   },
   "outputs": [],
   "source": [
    "x,y,z=pp.polplotreader(polfilepathd1)\n",
    "a,b,c=pp.polplotreader(polfilepathd2)\n",
    "d,e,f=pp.polplotreader(polfilepathd3)\n",
    "g,h,i=pp.polplotreader(polfilepathd4)"
   ]
  },
  {
   "cell_type": "code",
   "execution_count": 18,
   "metadata": {
    "collapsed": true
   },
   "outputs": [],
   "source": [
    "power3=np.concatenate((a,x), axis=0)\n",
    "xx3=np.concatenate((b,y),axis=0)\n",
    "pol3=np.concatenate((c,z),axis=0)\n",
    "power4=np.concatenate((d,g), axis=0)\n",
    "xx4=np.concatenate((e,h),axis=0)\n",
    "pol4=np.concatenate((f,i),axis=0)"
   ]
  },
  {
   "cell_type": "code",
   "execution_count": 19,
   "metadata": {
    "collapsed": true
   },
   "outputs": [],
   "source": [
    "pol_rad3=conv.degtorad(pol3)\n",
    "intensity3=conv.powertointensity(power3)\n",
    "dt3=conv.xtodt(xx3,drdt,resistance,bias)\n",
    "pol_rad4=conv.degtorad(pol4)\n",
    "intensity4=conv.powertointensity(power4)\n",
    "dt4=conv.xtodt(xx4,drdt,resistance,bias)"
   ]
  },
  {
   "cell_type": "code",
   "execution_count": 20,
   "metadata": {
    "collapsed": false
   },
   "outputs": [
    {
     "data": {
      "text/plain": [
       "<matplotlib.legend.Legend at 0x95de7b8>"
      ]
     },
     "execution_count": 20,
     "metadata": {},
     "output_type": "execute_result"
    }
   ],
   "source": [
    "ax4.scatter(intensity3, dt3, s=10, c='b', marker=\"s\", label=labela1)\n",
    "ax4.scatter(intensity4,dt4, s=10, c='r', marker=\"o\", label=labela2)\n",
    "ax4.set_xlabel(\"Intensity (kW/cm$^2$)\")\n",
    "ax4.set_ylabel(\"$\\Delta$T (K)\")\n",
    "ax4.set_ylim(ymin=0)\n",
    "ax4.set_xlim(xmin=0,xmax=400)\n",
    "ax4.set_title(titled,horizontalalignment='center')\n",
    "ax4.legend(loc='upper left',fontsize = 'x-small')"
   ]
  },
  {
   "cell_type": "code",
   "execution_count": 21,
   "metadata": {
    "collapsed": true
   },
   "outputs": [],
   "source": [
    "x,y,z=pp.polplotreader(polfilepathd1)\n",
    "a,b,c=pp.polplotreader(polfilepathd2)\n",
    "d,e,f=pp.polplotreader(polfilepathd3)\n",
    "g,h,i=pp.polplotreader(polfilepathd4)"
   ]
  },
  {
   "cell_type": "code",
   "execution_count": 22,
   "metadata": {
    "collapsed": true
   },
   "outputs": [],
   "source": [
    "power3=np.concatenate((a,x), axis=0)\n",
    "xx3=np.concatenate((b,y),axis=0)\n",
    "pol3=np.concatenate((c,z),axis=0)\n",
    "power4=np.concatenate((d,g), axis=0)\n",
    "xx4=np.concatenate((e,h),axis=0)\n",
    "pol4=np.concatenate((f,i),axis=0)"
   ]
  },
  {
   "cell_type": "code",
   "execution_count": 23,
   "metadata": {
    "collapsed": true
   },
   "outputs": [],
   "source": [
    "pol_rad3=conv.degtorad(pol3)\n",
    "intensity3=conv.powertointensity(power3)\n",
    "dt3=conv.xtodt(xx3,drdt,resistance,bias)\n",
    "pol_rad4=conv.degtorad(pol4)\n",
    "intensity4=conv.powertointensity(power4)\n",
    "dt4=conv.xtodt(xx4,drdt,resistance,bias)"
   ]
  },
  {
   "cell_type": "code",
   "execution_count": 24,
   "metadata": {
    "collapsed": false
   },
   "outputs": [
    {
     "data": {
      "text/plain": [
       "<matplotlib.legend.Legend at 0x95cfeb8>"
      ]
     },
     "execution_count": 24,
     "metadata": {},
     "output_type": "execute_result"
    }
   ],
   "source": [
    "ax5.scatter(intensity3, dt3, s=10, c='b', marker=\"s\", label=labela1)\n",
    "ax5.scatter(intensity4,dt4, s=10, c='r', marker=\"o\", label=labela2)\n",
    "ax5.set_xlabel(\"Intensity (kW/cm$^2$)\")\n",
    "ax5.set_ylabel(\"$\\Delta$T (K)\")\n",
    "ax5.set_ylim(ymin=0)\n",
    "ax5.set_xlim(xmin=0,xmax=400)\n",
    "ax5.set_title(titlee,horizontalalignment='center')\n",
    "ax5.legend(loc='upper left',fontsize = 'x-small')"
   ]
  },
  {
   "cell_type": "code",
   "execution_count": 47,
   "metadata": {
    "collapsed": true
   },
   "outputs": [],
   "source": [
    "plt.tight_layout()\n",
    "plt.savefig(figfilepath,format='png')\n",
    "#plt.show()"
   ]
  },
  {
   "cell_type": "code",
   "execution_count": null,
   "metadata": {
    "collapsed": false
   },
   "outputs": [],
   "source": []
  },
  {
   "cell_type": "code",
   "execution_count": null,
   "metadata": {
    "collapsed": true
   },
   "outputs": [],
   "source": []
  }
 ],
 "metadata": {
  "kernelspec": {
   "display_name": "Python 3",
   "language": "python",
   "name": "python3"
  },
  "language_info": {
   "codemirror_mode": {
    "name": "ipython",
    "version": 3
   },
   "file_extension": ".py",
   "mimetype": "text/x-python",
   "name": "python",
   "nbconvert_exporter": "python",
   "pygments_lexer": "ipython3",
   "version": "3.5.1"
  }
 },
 "nbformat": 4,
 "nbformat_minor": 0
}
